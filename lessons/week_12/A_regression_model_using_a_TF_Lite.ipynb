{
  "nbformat": 4,
  "nbformat_minor": 0,
  "metadata": {
    "colab": {
      "provenance": [],
      "toc_visible": true
    },
    "kernelspec": {
      "name": "python3",
      "display_name": "Python 3"
    },
    "language_info": {
      "name": "python"
    }
  },
  "cells": [
    {
      "cell_type": "markdown",
      "source": [
        "This notebook is based on Pete Warden et al `TinyML` book (Chapter 4) which can be accessed [here](https://www.oreilly.com/library/view/tinyml/9781492052036)."
      ],
      "metadata": {
        "id": "bCfrZGOJQ9QK"
      }
    },
    {
      "cell_type": "markdown",
      "source": [
        "# Introduction"
      ],
      "metadata": {
        "id": "zbl5l-mtRLCt"
      }
    },
    {
      "cell_type": "markdown",
      "source": [
        "In this notebook we’re going to build and train a model from scratch and then integrate it into a simple microcontroller program.\n",
        "\n",
        "In the process, you’ll get your hands dirty with some powerful developer tools that are used every day by cutting-edge machine learning practitioners. You’ll also learn how to integrate a machine learning model into a C++ program and deploy it to a microcontroller to control current flowing in a circuit. This might be your first taste\n",
        "of mixing hardware and ML, and it should be fun!\n",
        "\n",
        "Over the notebook, we will do the following:\n",
        "\n",
        "1. Obtain a simple dataset.\n",
        "2. Train a deep learning model.\n",
        "3. Evaluate the model’s performance.\n",
        "4. Convert the model to run on-device.\n",
        "5. Write code to perform on-device inference.\n",
        "6. Build the code into a binary.\n",
        "7. Deploy the binary to a microcontroller."
      ],
      "metadata": {
        "id": "xe_LRmvRBfb2"
      }
    },
    {
      "cell_type": "markdown",
      "source": [
        "# Setup Environment"
      ],
      "metadata": {
        "id": "nPG3G1wYB7_n"
      }
    },
    {
      "cell_type": "code",
      "source": [
        "# Define paths to model files\n",
        "import os\n",
        "MODELS_DIR = 'models/'\n",
        "if not os.path.exists(MODELS_DIR):\n",
        "    os.mkdir(MODELS_DIR)\n",
        "MODEL_TF = MODELS_DIR + 'model'\n",
        "MODEL_NO_QUANT_TFLITE = MODELS_DIR + 'model_no_quant.tflite'\n",
        "MODEL_TFLITE = MODELS_DIR + 'model.tflite'\n",
        "MODEL_TFLITE_MICRO = MODELS_DIR + 'model.cc'"
      ],
      "metadata": {
        "id": "FXI2ddtEgOUO"
      },
      "execution_count": null,
      "outputs": []
    },
    {
      "cell_type": "code",
      "source": [
        "# TensorFlow is an open source machine learning library\n",
        "import tensorflow as tf\n",
        "\n",
        "# Keras is TensorFlow's high-level API for deep learning\n",
        "from tensorflow import keras\n",
        "# Numpy is a math library\n",
        "import numpy as np\n",
        "# Pandas is a data manipulation library \n",
        "import pandas as pd\n",
        "# Matplotlib is a graphing library\n",
        "import matplotlib.pyplot as plt\n",
        "# Math is Python's math library\n",
        "import math\n",
        "\n",
        "# Set seed for experiment reproducibility\n",
        "seed = 1\n",
        "np.random.seed(seed)\n",
        "tf.random.set_seed(seed)"
      ],
      "metadata": {
        "id": "Vjcj4Kg3CcD8"
      },
      "execution_count": null,
      "outputs": []
    },
    {
      "cell_type": "markdown",
      "source": [
        "# Data Generation"
      ],
      "metadata": {
        "id": "NvQQuz5gChw6"
      }
    },
    {
      "cell_type": "markdown",
      "source": [
        "Our goal is to train a model that can take a value, x, and predict its sine, y. In a realworld\n",
        "application, if you needed the sine of x, you could just calculate it directly.\n",
        "However, by training a model to approximate the result, we can demonstrate the\n",
        "basics of machine learning."
      ],
      "metadata": {
        "id": "NONiHz4ACsFf"
      }
    },
    {
      "cell_type": "code",
      "source": [
        "plt.style.use(\"ggplot\")\n",
        "\n",
        "# Number of sample datapoints\n",
        "SAMPLES = 1000\n",
        "\n",
        "# Generate a uniformly distributed set of random numbers in the range from\n",
        "# 0 to 2π, which covers a complete sine wave oscillation\n",
        "x_values = np.random.uniform(low=0, \n",
        "                             high=2*math.pi,\n",
        "                             size=SAMPLES).astype(np.float32)\n",
        "\n",
        "# Shuffle the values to guarantee they're not in order\n",
        "np.random.shuffle(x_values)\n",
        "\n",
        "# Calculate the corresponding sine values\n",
        "y_values = np.sin(x_values).astype(np.float32)\n",
        "\n",
        "# Plot our data. The 'b.' argument tells the library to print blue dots.\n",
        "plt.plot(x_values, y_values, 'b.')\n",
        "plt.show()"
      ],
      "metadata": {
        "id": "QyJuFo1PC3Le"
      },
      "execution_count": null,
      "outputs": []
    },
    {
      "cell_type": "markdown",
      "source": [
        "## Add Noise"
      ],
      "metadata": {
        "id": "_8quPKtKc_Ze"
      }
    },
    {
      "cell_type": "markdown",
      "source": [
        "Since it was generated directly by the sine function, our data fits a nice, smooth curve. However, machine learning models are good at extracting underlying meaning from messy, real world data. To demonstrate this, we can add some noise to our data to approximate something more life-like.\n",
        "\n",
        "In the following cell, we'll add some random noise to each value, then draw a new graph:"
      ],
      "metadata": {
        "id": "kwZDocARdjbc"
      }
    },
    {
      "cell_type": "code",
      "source": [
        "# Add a small random number to each y value\n",
        "y_values += 0.1 * np.random.randn(*y_values.shape)\n",
        "\n",
        "# Plot our data\n",
        "plt.plot(x_values, y_values, 'b.',)\n",
        "plt.show()"
      ],
      "metadata": {
        "id": "yy9WPnmhdxF5"
      },
      "execution_count": null,
      "outputs": []
    },
    {
      "cell_type": "markdown",
      "source": [
        "Much better! Our points are now randomized, so they represent a distribution around a sine wave instead of a smooth, perfect curve. This is much more reflective of a real-world situation, in which data is generally quite messy."
      ],
      "metadata": {
        "id": "7jIoo7SFeXDE"
      }
    },
    {
      "cell_type": "markdown",
      "source": [
        "## Split the Data"
      ],
      "metadata": {
        "id": "hp6wfa4Bfs_4"
      }
    },
    {
      "cell_type": "markdown",
      "source": [
        "We now have a noisy dataset that approximates real world data. We'll be using this to train our model.\n",
        "\n",
        "To evaluate the accuracy of the model we train, we'll need to compare its predictions to real data and check how well they match up. This evaluation happens during training (where it is referred to as validation) and after training (referred to as testing) It's important in both cases that we use fresh data that was not already used to train the model.\n",
        "\n",
        "The data is split as follows:\n",
        "\n",
        "- Training: 60%\n",
        "- Validation: 20%\n",
        "- Testing: 20%\n",
        "\n",
        "The following code will split our data and then plots each set as a different color:"
      ],
      "metadata": {
        "id": "ztuc_vhnf5qW"
      }
    },
    {
      "cell_type": "code",
      "source": [
        "# We'll use 60% of our data for training and 20% for testing. The remaining 20%\n",
        "# will be used for validation. Calculate the indices of each section.\n",
        "TRAIN_SPLIT =  int(0.6 * SAMPLES)\n",
        "TEST_SPLIT = int(0.2 * SAMPLES + TRAIN_SPLIT)\n",
        "\n",
        "# Use np.split to chop our data into three parts.\n",
        "# The second argument to np.split is an array of indices where the data will be\n",
        "# split. We provide two indices, so the data will be divided into three chunks.\n",
        "x_train, x_test, x_validate = np.split(x_values, [TRAIN_SPLIT, TEST_SPLIT])\n",
        "y_train, y_test, y_validate = np.split(y_values, [TRAIN_SPLIT, TEST_SPLIT])\n",
        "\n",
        "# Double check that our splits add up correctly\n",
        "assert (x_train.size + x_validate.size + x_test.size) ==  SAMPLES\n",
        "\n",
        "# Plot the data in each partition in different colors:\n",
        "plt.plot(x_train, y_train, 'b.', label=\"Train\")\n",
        "plt.plot(x_test, y_test, 'r.', label=\"Test\")\n",
        "plt.plot(x_validate, y_validate, 'y.', label=\"Validate\")\n",
        "plt.legend()\n",
        "plt.show()"
      ],
      "metadata": {
        "id": "GzDc7-6QgEMo"
      },
      "execution_count": null,
      "outputs": []
    },
    {
      "cell_type": "markdown",
      "source": [
        "# Training a model using TensorFlow"
      ],
      "metadata": {
        "id": "GNeAWQgX7WvV"
      }
    },
    {
      "cell_type": "markdown",
      "source": [
        "## Training"
      ],
      "metadata": {
        "id": "NmQ4diw_hFhs"
      }
    },
    {
      "cell_type": "markdown",
      "source": [
        "### Design a model"
      ],
      "metadata": {
        "id": "VbVuXiXMheoz"
      }
    },
    {
      "cell_type": "markdown",
      "source": [
        "We're going to build a simple neural network model that will take an input value (in this case, ``x``) and use it to predict a numeric output value (the ``sine of x``). This type of problem is called a **regression**. It will use layers of neurons to attempt to learn any patterns underlying the training data, so it can make predictions.\n",
        "\n",
        "To begin with, we'll define two layers. The first layer takes a single input (our ``x`` value) and runs it through 8 neurons. Based on this input, each neuron will become activated to a certain degree based on its internal state (its weight and bias values). A neuron's degree of activation is expressed as a number.\n",
        "\n",
        "The activation numbers from our first layer will be fed as inputs to our second layer, which is a single neuron. It will apply its own weights and bias to these inputs and calculate its own activation, which will be output as our ``y`` value.\n",
        "\n"
      ],
      "metadata": {
        "id": "_f9GDCZGiJWN"
      }
    },
    {
      "cell_type": "code",
      "source": [
        "# We'll use Keras to create a simple model architecture\n",
        "model_1 = tf.keras.Sequential()\n",
        "\n",
        "# First layer takes a scalar input and feeds it through 8 \"neurons\". The\n",
        "# neurons decide whether to activate based on the 'relu' activation function.\n",
        "model_1.add(keras.layers.Dense(8, activation='relu', input_shape=(1,)))\n",
        "\n",
        "# Final layer is a single neuron, since we want to output a single value\n",
        "model_1.add(keras.layers.Dense(1))\n",
        "\n",
        "# Compile the model using the standard 'adam' optimizer and the mean squared error or 'mse' loss function for regression.\n",
        "model_1.compile(optimizer='adam', loss='mse', metrics=['mae'])\n"
      ],
      "metadata": {
        "id": "PRHys6uoiWVE"
      },
      "execution_count": null,
      "outputs": []
    },
    {
      "cell_type": "markdown",
      "source": [
        "### Training the model"
      ],
      "metadata": {
        "id": "Up--XWeuijF3"
      }
    },
    {
      "cell_type": "markdown",
      "source": [
        "Once we've defined the model, we can use our data to train it. Training involves passing an ``x value`` into the neural network, checking how far the network's output deviates from the expected ``y value``, and adjusting the neurons' weights and biases so that the output is more likely to be correct the next time.\n",
        "\n",
        "Training runs this process on the full dataset multiple times, and each full run-through is known as an epoch. The number of epochs to run during training is a parameter we can set.\n",
        "\n",
        "During each epoch, data is run through the network in multiple batches. Each batch, several pieces of data are passed into the network, producing output values. These outputs' correctness is measured in aggregate and the network's weights and biases are adjusted accordingly, once per batch. The batch size is also a parameter we can set.\n",
        "\n",
        "The code in the following cell uses the ``x`` and ``y values`` from our training data to train the model. It runs for 500 epochs, with 64 pieces of data in each batch. We also pass in some data for validation. As you will see when you run the cell, training can take a while to complete:"
      ],
      "metadata": {
        "id": "FfWzCMtzix72"
      }
    },
    {
      "cell_type": "code",
      "source": [
        "# Train the model on our training data while validating on our validation set\n",
        "history_1 = model_1.fit(x_train,\n",
        "                        y_train,\n",
        "                        epochs=500,\n",
        "                        batch_size=64,\n",
        "                        validation_data=(x_validate,\n",
        "                                         y_validate)\n",
        "                        )"
      ],
      "metadata": {
        "id": "h3fFKHJ_i9Uu"
      },
      "execution_count": null,
      "outputs": []
    },
    {
      "cell_type": "markdown",
      "source": [
        "### Plot Metrics"
      ],
      "metadata": {
        "id": "L_IpE0nhjEzR"
      }
    },
    {
      "cell_type": "markdown",
      "source": [
        "#### Loss (or Mean Squared Error)"
      ],
      "metadata": {
        "id": "hAbkgwijjdtS"
      }
    },
    {
      "cell_type": "markdown",
      "source": [
        "During training, the model's performance is constantly being measured against both our training data and the validation data that we set aside earlier. Training produces a log of data that tells us how the model's performance changed over the course of the training process.\n",
        "\n",
        "The following cells will display some of that data in a graphical form:"
      ],
      "metadata": {
        "id": "HxSVDg4gjnx0"
      }
    },
    {
      "cell_type": "code",
      "source": [
        "# Draw a graph of the loss, which is the distance between\n",
        "# the predicted and actual values during training and validation.\n",
        "train_loss = history_1.history['loss']\n",
        "val_loss = history_1.history['val_loss']\n",
        "\n",
        "epochs = range(1, len(train_loss) + 1)\n",
        "\n",
        "plt.plot(epochs, train_loss, 'g.', label='Training loss')\n",
        "plt.plot(epochs, val_loss, 'b', label='Validation loss')\n",
        "plt.title('Training and validation loss')\n",
        "plt.xlabel('Epochs')\n",
        "plt.ylabel('Loss')\n",
        "plt.legend()\n",
        "plt.show()"
      ],
      "metadata": {
        "id": "jDgEctdkjsSn"
      },
      "execution_count": null,
      "outputs": []
    },
    {
      "cell_type": "markdown",
      "source": [
        "The graph shows the loss (or the difference between the model's predictions and the actual data) for each epoch. There are several ways to calculate loss, and the method we have used is mean squared error. There is a distinct loss value given for the training and the validation data.\n",
        "\n",
        "As we can see, the amount of loss rapidly decreases over the first 25 epochs, before flattening out. This means that the model is improving and producing more accurate predictions!\n",
        "\n",
        "Our goal is to stop training when either the model is no longer improving, or when the training loss is less than the validation loss, which would mean that the model has learned to predict the training data so well that it can no longer generalize to new data.\n",
        "\n",
        "To make the flatter part of the graph more readable, let's skip the first 50 epochs:"
      ],
      "metadata": {
        "id": "A1VFTH57jvVa"
      }
    },
    {
      "cell_type": "code",
      "source": [
        "# Exclude the first few epochs so the graph is easier to read\n",
        "SKIP = 50\n",
        "\n",
        "plt.plot(epochs[SKIP:], train_loss[SKIP:], 'g.', label='Training loss')\n",
        "plt.plot(epochs[SKIP:], val_loss[SKIP:], 'b.', label='Validation loss')\n",
        "plt.title('Training and validation loss')\n",
        "plt.xlabel('Epochs')\n",
        "plt.ylabel('Loss')\n",
        "plt.legend()\n",
        "plt.show()"
      ],
      "metadata": {
        "id": "B_5rWLi2j45n"
      },
      "execution_count": null,
      "outputs": []
    },
    {
      "cell_type": "markdown",
      "source": [
        "From the plot, we can see that loss continues to reduce until around 150/160 epochs, at which point it is mostly stable. This means that there's no need to train our network beyond 200 epochs.\n",
        "\n"
      ],
      "metadata": {
        "id": "mzfmU-kGj_8l"
      }
    },
    {
      "cell_type": "markdown",
      "source": [
        "####  Mean Absolute Error"
      ],
      "metadata": {
        "id": "4Db697sbkM21"
      }
    },
    {
      "cell_type": "markdown",
      "source": [
        "To gain more insight into our model's performance we can plot some more data. This time, we'll plot the mean absolute error, which is another way of measuring how far the network's predictions are from the actual numbers:"
      ],
      "metadata": {
        "id": "kl6-lgnbkggs"
      }
    },
    {
      "cell_type": "code",
      "source": [
        "# Draw a graph of mean absolute error, which is another way of\n",
        "# measuring the amount of error in the prediction.\n",
        "train_mae = history_1.history['mae']\n",
        "val_mae = history_1.history['val_mae']\n",
        "\n",
        "plt.plot(epochs[SKIP:], train_mae[SKIP:], 'g.', label='Training MAE')\n",
        "plt.plot(epochs[SKIP:], val_mae[SKIP:], 'b.', label='Validation MAE')\n",
        "plt.title('Training and validation mean absolute error')\n",
        "plt.xlabel('Epochs')\n",
        "plt.ylabel('MAE')\n",
        "plt.legend()\n",
        "plt.show()"
      ],
      "metadata": {
        "id": "9P3N3rIfknpm"
      },
      "execution_count": null,
      "outputs": []
    },
    {
      "cell_type": "markdown",
      "source": [
        "This graph of mean absolute error tells a similar story. We can see that training data shows consistently lower error than validation data, which means that the network may have overfit, or learned the training data so rigidly that it can't make effective predictions about new data."
      ],
      "metadata": {
        "id": "8-Sq6w6-ksN_"
      }
    },
    {
      "cell_type": "markdown",
      "source": [
        "#### Actual vs Predicted Outputs"
      ],
      "metadata": {
        "id": "l3GYPletk0uk"
      }
    },
    {
      "cell_type": "markdown",
      "source": [
        "To get more insight into what is happening, let's check its predictions against the test dataset we set aside earlier:\n",
        "\n"
      ],
      "metadata": {
        "id": "84wxRjSFlB-W"
      }
    },
    {
      "cell_type": "code",
      "source": [
        "# Calculate and print the loss on our test dataset\n",
        "test_loss, test_mae = model_1.evaluate(x_test, y_test)\n",
        "\n",
        "# Make predictions based on our test dataset\n",
        "y_test_pred = model_1.predict(x_test)\n",
        "\n",
        "# Graph the predictions against the actual values\n",
        "plt.title('Comparison of predictions and actual values')\n",
        "plt.plot(x_test, y_test, 'b.', label='Actual values')\n",
        "plt.plot(x_test, y_test_pred, 'r.', label='TF predictions')\n",
        "plt.legend()\n",
        "plt.show()"
      ],
      "metadata": {
        "id": "4Iii24eXlHU7"
      },
      "execution_count": null,
      "outputs": []
    },
    {
      "cell_type": "markdown",
      "source": [
        "Oh dear! The graph makes it clear that our network has learned to approximate the sine function in a very limited way.\n",
        "\n",
        "The rigidity of this fit suggests that the model does not have enough capacity to learn the full complexity of the sine wave function, so it's only able to approximate it in an overly simplistic way. By making our model bigger, we should be able to improve its performance"
      ],
      "metadata": {
        "id": "5KWaGE87lMsd"
      }
    },
    {
      "cell_type": "markdown",
      "source": [
        "## Training a Larger Model"
      ],
      "metadata": {
        "id": "_y6WWT_9lVIC"
      }
    },
    {
      "cell_type": "markdown",
      "source": [
        "### Design the Model"
      ],
      "metadata": {
        "id": "ZJj7-xQb4I_Q"
      }
    },
    {
      "cell_type": "markdown",
      "source": [
        "To make our model bigger, let's add an additional layer of neurons. The following cell redefines our model in the same way as earlier, but with 16 neurons in the first layer and an additional layer of 16 neurons in the middle:"
      ],
      "metadata": {
        "id": "kKR0GhJK4CsW"
      }
    },
    {
      "cell_type": "code",
      "source": [
        "model = tf.keras.Sequential()\n",
        "\n",
        "# First layer takes a scalar input and feeds it through 16 \"neurons\". The\n",
        "# neurons decide whether to activate based on the 'relu' activation function.\n",
        "model.add(keras.layers.Dense(16, activation='relu', input_shape=(1,)))\n",
        "\n",
        "# The new second and third layer will help the network learn more complex representations\n",
        "model.add(keras.layers.Dense(16, activation='relu'))\n",
        "\n",
        "# Final layer is a single neuron, since we want to output a single value\n",
        "model.add(keras.layers.Dense(1))\n",
        "\n",
        "# Compile the model using the standard 'adam' optimizer and the mean squared error or 'mse' loss function for regression.\n",
        "model.compile(optimizer='adam', loss=\"mse\", metrics=[\"mae\"])"
      ],
      "metadata": {
        "id": "GUvoQwbw38lp"
      },
      "execution_count": null,
      "outputs": []
    },
    {
      "cell_type": "markdown",
      "source": [
        "### Train the Model"
      ],
      "metadata": {
        "id": "k02ZQmuD4EHv"
      }
    },
    {
      "cell_type": "markdown",
      "source": [
        "We'll now train and ``save the new model``."
      ],
      "metadata": {
        "id": "gmaipX-94OEm"
      }
    },
    {
      "cell_type": "code",
      "source": [
        "MODEL_TF"
      ],
      "metadata": {
        "id": "nLSr_4_v4fVl"
      },
      "execution_count": null,
      "outputs": []
    },
    {
      "cell_type": "code",
      "source": [
        "# Train the model\n",
        "history = model.fit(x_train,\n",
        "                    y_train,\n",
        "                    epochs=500,\n",
        "                    batch_size=64,\n",
        "                    validation_data=(x_validate, \n",
        "                                     y_validate),\n",
        "                    verbose=0)\n",
        "\n",
        "# Save the model to disk\n",
        "model.save(MODEL_TF)"
      ],
      "metadata": {
        "id": "zvT0c5VC4RNW"
      },
      "execution_count": null,
      "outputs": []
    },
    {
      "cell_type": "markdown",
      "source": [
        "### Plot Metrics"
      ],
      "metadata": {
        "id": "1aaBitHi4swi"
      }
    },
    {
      "cell_type": "code",
      "source": [
        "# Draw a graph of the loss, which is the distance between\n",
        "# the predicted and actual values during training and validation.\n",
        "train_loss = history.history['loss']\n",
        "val_loss = history.history['val_loss']\n",
        "\n",
        "epochs = range(1, len(train_loss) + 1)\n",
        "\n",
        "# Exclude the first few epochs so the graph is easier to read\n",
        "SKIP = 100\n",
        "\n",
        "plt.figure(figsize=(10, 4))\n",
        "plt.subplot(1, 2, 1)\n",
        "\n",
        "plt.plot(epochs[SKIP:], train_loss[SKIP:], 'g.', label='Training loss')\n",
        "plt.plot(epochs[SKIP:], val_loss[SKIP:], 'b.', label='Validation loss')\n",
        "plt.title('Training and validation loss')\n",
        "plt.xlabel('Epochs')\n",
        "plt.ylabel('Loss')\n",
        "plt.legend()\n",
        "\n",
        "plt.subplot(1, 2, 2)\n",
        "\n",
        "# Draw a graph of mean absolute error, which is another way of\n",
        "# measuring the amount of error in the prediction.\n",
        "train_mae = history.history['mae']\n",
        "val_mae = history.history['val_mae']\n",
        "\n",
        "plt.plot(epochs[SKIP:], train_mae[SKIP:], 'g.', label='Training MAE')\n",
        "plt.plot(epochs[SKIP:], val_mae[SKIP:], 'b.', label='Validation MAE')\n",
        "plt.title('Training and validation mean absolute error')\n",
        "plt.xlabel('Epochs')\n",
        "plt.ylabel('MAE')\n",
        "plt.legend()\n",
        "\n",
        "plt.tight_layout()\n"
      ],
      "metadata": {
        "id": "teLKaVVf6wxS"
      },
      "execution_count": null,
      "outputs": []
    },
    {
      "cell_type": "code",
      "source": [
        "# Calculate and print the loss on our test dataset\n",
        "test_loss, test_mae = model.evaluate(x_test, y_test)\n",
        "\n",
        "# Make predictions based on our test dataset\n",
        "y_test_pred = model.predict(x_test)\n",
        "\n",
        "# Graph the predictions against the actual values\n",
        "plt.clf()\n",
        "plt.title('Comparison of predictions and actual values')\n",
        "plt.plot(x_test, y_test, 'b.', label='Actual values')\n",
        "plt.plot(x_test, y_test_pred, 'r.', label='TF predicted')\n",
        "plt.legend()\n",
        "plt.show()"
      ],
      "metadata": {
        "id": "lVjwPpcW65VE"
      },
      "execution_count": null,
      "outputs": []
    },
    {
      "cell_type": "markdown",
      "source": [
        "# Generate a TensorFlow Lite Model"
      ],
      "metadata": {
        "id": "3F7rA9bL73z6"
      }
    },
    {
      "cell_type": "markdown",
      "source": [
        "## Generate Models with or without Quantization"
      ],
      "metadata": {
        "id": "zviS5QEQ8Hqy"
      }
    },
    {
      "cell_type": "markdown",
      "source": [
        "We now have an acceptably accurate model. We'll use the [TensorFlow Lite Converter](https://www.tensorflow.org/lite/convert) to convert the model into a special, space-efficient format for use on memory-constrained devices.\n",
        "\n",
        "Since this model is going to be deployed on a microcontroller, we want it to be as tiny as possible! One technique for reducing the size of a model is called [quantization](https://www.tensorflow.org/lite/performance/post_training_quantization). It reduces the precision of the model's weights, and possibly the activations (output of each layer) as well, which saves memory, often without much impact on accuracy. Quantized models also run faster, since the calculations required are simpler.\n",
        "\n",
        "\n",
        "> **TensorFlow Lite Converter**\n",
        "This converts TensorFlow models into a special, space-efficient format for use on\n",
        "memory-constrained devices, and it can apply optimizations that further reduce\n",
        "the model size and make it run faster on small devices.\n",
        "\n",
        "> **TensorFlow Lite Interpreter**\n",
        "This runs an appropriately converted TensorFlow Lite model using the most efficient\n",
        "operations for a given device.\n",
        "\n",
        "Before we use our model with TensorFlow Lite, we need to convert it. We use the\n",
        "TensorFlow Lite Converter’s Python API to do this. It takes our Keras model and\n",
        "writes it to disk in the form of a **FlatBuffer**, which is a special file format designed to\n",
        "be space-efficient. \n",
        "\n",
        "> You can read more about **FlatBuffer** in Chapter 12 of [TinyML Book](https://www.oreilly.com/library/view/tinyml/9781492052036/). \n",
        "\n",
        "In addition to creating a FlatBuffer, the TensorFlow Lite Converter can also apply\n",
        "optimizations to the model. These optimizations generally reduce the size of the model, the time it takes to run, or both. This can come at the cost of a reduction in accuracy, but the reduction is often small enough that it’s worthwhile. \n",
        "\n",
        "> You can read\n",
        "more about optimizations in Chapter 13 of [TinyML Book](https://www.oreilly.com/library/view/tinyml/9781492052036/). \n",
        "\n",
        "In the following cell, we'll convert the model twice: once with quantization, once without."
      ],
      "metadata": {
        "id": "FZpEV-mS8ImS"
      }
    },
    {
      "cell_type": "code",
      "source": [
        "MODEL_NO_QUANT_TFLITE"
      ],
      "metadata": {
        "id": "mU4t_BME9WtO"
      },
      "execution_count": null,
      "outputs": []
    },
    {
      "cell_type": "code",
      "source": [
        "MODEL_TFLITE"
      ],
      "metadata": {
        "id": "lD0o_szm-ezn"
      },
      "execution_count": null,
      "outputs": []
    },
    {
      "cell_type": "code",
      "source": [
        "#\n",
        "# Convert the model to the TensorFlow Lite format without quantization\n",
        "#\n",
        "converter = tf.lite.TFLiteConverter.from_saved_model(MODEL_TF)\n",
        "model_no_quant_tflite = converter.convert()\n",
        "\n",
        "# Save the model to disk\n",
        "open(MODEL_NO_QUANT_TFLITE, \"wb\").write(model_no_quant_tflite)\n",
        "\n",
        "#\n",
        "# Convert the model to the TensorFlow Lite format with quantization\n",
        "#\n",
        "def representative_dataset():\n",
        "  for i in range(500):\n",
        "    yield([x_train[i].reshape(1, 1)])\n",
        "\n",
        "# Set the optimization flag.\n",
        "converter.optimizations = [tf.lite.Optimize.DEFAULT]\n",
        "\n",
        "# Enforce integer only quantization\n",
        "# To ensure compatibility with integer only devices \n",
        "# (such as 8-bit microcontrollers) and accelerators \n",
        "# (such as the Coral Edge TPU), you can enforce\n",
        "# full integer quantization for all ops including\n",
        "# the input and output, by using the following steps:\n",
        "converter.target_spec.supported_ops = [tf.lite.OpsSet.TFLITE_BUILTINS_INT8]\n",
        "converter.inference_input_type = tf.int8\n",
        "converter.inference_output_type = tf.int8\n",
        "\n",
        "# Provide a representative dataset to ensure we quantize correctly.\n",
        "converter.representative_dataset = representative_dataset\n",
        "model_tflite = converter.convert()\n",
        "\n",
        "# Save the model to disk\n",
        "open(MODEL_TFLITE, \"wb\").write(model_tflite)"
      ],
      "metadata": {
        "id": "MVy6sQ2v87l0"
      },
      "execution_count": null,
      "outputs": []
    },
    {
      "cell_type": "markdown",
      "source": [
        "## Compare Model Performance"
      ],
      "metadata": {
        "id": "nTQo1YFmAT7Q"
      }
    },
    {
      "cell_type": "markdown",
      "source": [
        "To prove these models are accurate even after conversion and quantization, we'll compare their predictions and loss on our test dataset.\n",
        "\n",
        "\n",
        "Because TensorFlow Lite is designed primarily for efficiency, the TensorFlow Lite interpreter is slightly more complicated to use than the Keras API. To make predictions with our Keras model, we could just call the ``predict()`` method, passing an array of inputs.\n",
        "With TensorFlow Lite, we need to do the following:\n",
        "\n",
        "1. Instantiate an Interpreter object.\n",
        "2. Call some methods that allocate memory for the model.\n",
        "3. Write the input to the input tensor.\n",
        "4. Invoke the model.\n",
        "5. Read the output from the output tensor."
      ],
      "metadata": {
        "id": "6KgTn2RaBjMx"
      }
    },
    {
      "cell_type": "markdown",
      "source": [
        "\n",
        "**Helper functions**\n",
        "\n",
        "We define the predict (for predictions) and evaluate (for loss) functions for TFLite models. \n",
        "\n",
        "> Note: These are already included in a TF model, but not in a TFLite model."
      ],
      "metadata": {
        "id": "TqeRQHNzBo_x"
      }
    },
    {
      "cell_type": "markdown",
      "source": [
        "Just an example for the sake of understanding:\n",
        "\n",
        "```python\n",
        "# Initialize the TFLite interpreter\n",
        "interpreter = tf.lite.Interpreter(MODEL_TFLITE)\n",
        "interpreter.allocate_tensors()\n",
        "\n",
        "interpreter.get_input_details()[0]\n",
        "\n",
        "{'name': 'serving_default_dense_2_input:0',\n",
        " 'index': 0,\n",
        " 'shape': array([1, 1], dtype=int32),\n",
        " 'shape_signature': array([-1,  1], dtype=int32),\n",
        " 'dtype': numpy.int8,\n",
        " 'quantization': (0.024556981399655342, -128),\n",
        " 'quantization_parameters': {'scales': array([0.02455698], dtype=float32),\n",
        "  'zero_points': array([-128], dtype=int32),\n",
        "  'quantized_dimension': 0},\n",
        " 'sparsity_parameters': {}}\n",
        " ```"
      ],
      "metadata": {
        "id": "i98E_4cqMmNo"
      }
    },
    {
      "cell_type": "markdown",
      "source": [
        "```python\n",
        "interpreter.get_output_details()[0]\n",
        "{'name': 'StatefulPartitionedCall:0',\n",
        " 'index': 9,\n",
        " 'shape': array([1, 1], dtype=int32),\n",
        " 'shape_signature': array([-1,  1], dtype=int32),\n",
        " 'dtype': numpy.int8,\n",
        " 'quantization': (0.008335912600159645, -3),\n",
        " 'quantization_parameters': {'scales': array([0.00833591], dtype=float32),\n",
        "  'zero_points': array([-3], dtype=int32),\n",
        "  'quantized_dimension': 0},\n",
        " 'sparsity_parameters': {}}\n",
        "```"
      ],
      "metadata": {
        "id": "wfW3e1BqNLD-"
      }
    },
    {
      "cell_type": "code",
      "source": [
        "def predict_tflite(tflite_model, x_test):\n",
        "  # Prepare the test data\n",
        "  x_test_ = x_test.copy()\n",
        "  x_test_ = x_test_.reshape((x_test.size, 1))\n",
        "  x_test_ = x_test_.astype(np.float32)\n",
        "\n",
        "  # Initialize the TFLite interpreter\n",
        "  interpreter = tf.lite.Interpreter(model_content=tflite_model,\n",
        "                                    experimental_op_resolver_type=tf.lite.experimental.OpResolverType.BUILTIN_REF)\n",
        "  interpreter.allocate_tensors()\n",
        "\n",
        "  input_details = interpreter.get_input_details()[0]\n",
        "  output_details = interpreter.get_output_details()[0]\n",
        "\n",
        "  # If required, quantize the input layer (from float to integer)\n",
        "  input_scale, input_zero_point = input_details[\"quantization\"]\n",
        "  if (input_scale, input_zero_point) != (0.0, 0):\n",
        "    x_test_ = x_test_ / input_scale + input_zero_point\n",
        "    x_test_ = x_test_.astype(input_details[\"dtype\"])\n",
        "  \n",
        "  # Invoke the interpreter\n",
        "  y_pred = np.empty(x_test_.size, dtype=output_details[\"dtype\"])\n",
        "  for i in range(len(x_test_)):\n",
        "    interpreter.set_tensor(input_details[\"index\"], [x_test_[i]])\n",
        "    interpreter.invoke()\n",
        "    y_pred[i] = interpreter.get_tensor(output_details[\"index\"])[0]\n",
        "  \n",
        "  # If required, dequantized the output layer (from integer to float)\n",
        "  output_scale, output_zero_point = output_details[\"quantization\"]\n",
        "  if (output_scale, output_zero_point) != (0.0, 0):\n",
        "    y_pred = y_pred.astype(np.float32)\n",
        "    y_pred = (y_pred - output_zero_point) * output_scale\n",
        "\n",
        "  return y_pred\n",
        "\n",
        "def evaluate_tflite(tflite_model, x_test, y_true):\n",
        "  global model\n",
        "  y_pred = predict_tflite(tflite_model, x_test)\n",
        "  # model.loss = mse\n",
        "  loss_function = tf.keras.losses.get(model.loss)\n",
        "  loss = loss_function(y_true, y_pred).numpy()\n",
        "  return loss"
      ],
      "metadata": {
        "id": "03VX7aTyBqgU"
      },
      "execution_count": null,
      "outputs": []
    },
    {
      "cell_type": "markdown",
      "source": [
        "### Predictions"
      ],
      "metadata": {
        "id": "izjetzQdK_Wx"
      }
    },
    {
      "cell_type": "code",
      "source": [
        "# Calculate predictions\n",
        "y_test_pred_tf = model.predict(x_test)\n",
        "y_test_pred_no_quant_tflite = predict_tflite(model_no_quant_tflite, x_test)\n",
        "y_test_pred_tflite = predict_tflite(model_tflite, x_test)"
      ],
      "metadata": {
        "id": "Lt7ZZMQiOZno"
      },
      "execution_count": null,
      "outputs": []
    },
    {
      "cell_type": "code",
      "source": [
        "# Compare predictions\n",
        "plt.clf()\n",
        "plt.title('Comparison of various models against actual values')\n",
        "plt.plot(x_test, y_test, 'bo', label='Actual values')\n",
        "plt.plot(x_test, y_test_pred_tf, 'ro', label='TF predictions')\n",
        "plt.plot(x_test, y_test_pred_no_quant_tflite, 'bx', label='TFLite predictions')\n",
        "plt.plot(x_test, y_test_pred_tflite, 'gx', label='TFLite quantized predictions')\n",
        "plt.legend()\n",
        "plt.show()"
      ],
      "metadata": {
        "id": "TwecRykTO2PE"
      },
      "execution_count": null,
      "outputs": []
    },
    {
      "cell_type": "markdown",
      "source": [
        "###  Loss (MSE/Mean Squared Error)"
      ],
      "metadata": {
        "id": "fyBqzERSPPUO"
      }
    },
    {
      "cell_type": "code",
      "source": [
        "# Calculate loss\n",
        "loss_tf, _ = model.evaluate(x_test, y_test, verbose=0)\n",
        "loss_no_quant_tflite = evaluate_tflite(model_no_quant_tflite, x_test, y_test)\n",
        "loss_tflite = evaluate_tflite(model_tflite, x_test, y_test)"
      ],
      "metadata": {
        "id": "FmkPegFIPZ1z"
      },
      "execution_count": null,
      "outputs": []
    },
    {
      "cell_type": "code",
      "source": [
        "# Compare loss\n",
        "df = pd.DataFrame.from_records(\n",
        "    [[\"TensorFlow\", loss_tf],\n",
        "     [\"TensorFlow Lite\", loss_no_quant_tflite],\n",
        "     [\"TensorFlow Lite Quantized\", loss_tflite]],\n",
        "     columns = [\"Model\", \"Loss/MSE\"], index=\"Model\").round(4)\n",
        "df"
      ],
      "metadata": {
        "id": "Tp5ONUFMPdvF"
      },
      "execution_count": null,
      "outputs": []
    },
    {
      "cell_type": "markdown",
      "source": [
        "### Size"
      ],
      "metadata": {
        "id": "xvrg6rkYPjdb"
      }
    },
    {
      "cell_type": "code",
      "source": [
        "# Calculate size\n",
        "size_tf = os.path.getsize(MODEL_TF)\n",
        "size_no_quant_tflite = os.path.getsize(MODEL_NO_QUANT_TFLITE)\n",
        "size_tflite = os.path.getsize(MODEL_TFLITE)"
      ],
      "metadata": {
        "id": "e-jxqM9LPsOM"
      },
      "execution_count": null,
      "outputs": []
    },
    {
      "cell_type": "code",
      "source": [
        "# Compare size\n",
        "pd.DataFrame.from_records(\n",
        "    [[\"TensorFlow\", f\"{size_tf} bytes\", \"\"],\n",
        "     [\"TensorFlow Lite\", f\"{size_no_quant_tflite} bytes \", f\"(reduced by {size_tf - size_no_quant_tflite} bytes)\"],\n",
        "     [\"TensorFlow Lite Quantized\", f\"{size_tflite} bytes\", f\"(reduced by {size_no_quant_tflite - size_tflite} bytes)\"]],\n",
        "     columns = [\"Model\", \"Size\", \"\"], index=\"Model\")"
      ],
      "metadata": {
        "id": "AQyBtvu-PtKK"
      },
      "execution_count": null,
      "outputs": []
    },
    {
      "cell_type": "markdown",
      "source": [
        "# Generate a TensorFlow Lite for Microcontrollers Model\n"
      ],
      "metadata": {
        "id": "sf3iRllZPw84"
      }
    },
    {
      "cell_type": "markdown",
      "source": [
        "The final step in preparing our model for use with TensorFlow Lite for Microcontrollers\n",
        "is to convert it into a C source file that can be included in our application.\n",
        "\n",
        "So far during this notebook, we’ve been using TensorFlow Lite’s Python API. This\n",
        "means that we’ve been able to use the Interpreter constructor to load our model\n",
        "files from disk. However, most microcontrollers don’t have a filesystem, and even if they did, the\n",
        "extra code required to load a model from disk would be wasteful given our limited space. \n",
        "\n",
        "Instead, as an elegant solution, we provide the model in a C source file that can\n",
        "be included in our binary and loaded directly into memory. In the file, the model is defined as an array of bytes. \n",
        "\n",
        "> Fortunately, there’s a convenient\n",
        "Unix tool named xxd that is able to convert a given file into the required format.\n",
        "\n",
        "\n",
        "The following cell runs ``xxd`` on our quantized model, writes the output to a file called\n",
        "**sine_model_quantized.cc**, and prints it to the screen:"
      ],
      "metadata": {
        "id": "EJXY3OMEQLvD"
      }
    },
    {
      "cell_type": "code",
      "source": [
        "# Install xxd if it is not available\n",
        "!apt-get update && apt-get -qq install xxd"
      ],
      "metadata": {
        "id": "qcHRtgHLQVNt"
      },
      "execution_count": null,
      "outputs": []
    },
    {
      "cell_type": "code",
      "source": [
        "MODEL_TFLITE_MICRO"
      ],
      "metadata": {
        "id": "NUHOem9CSZJ7"
      },
      "execution_count": null,
      "outputs": []
    },
    {
      "cell_type": "code",
      "source": [
        "MODEL_TFLITE"
      ],
      "metadata": {
        "id": "4Gc5CeRpSdRd"
      },
      "execution_count": null,
      "outputs": []
    },
    {
      "cell_type": "code",
      "source": [
        "# Convert to a C source file, i.e, a TensorFlow Lite for Microcontrollers model\n",
        "!xxd -i {MODEL_TFLITE} > {MODEL_TFLITE_MICRO}"
      ],
      "metadata": {
        "id": "_9Yur41DSRrJ"
      },
      "execution_count": null,
      "outputs": []
    },
    {
      "cell_type": "code",
      "source": [
        "# Print the C source file\n",
        "!cat {MODEL_TFLITE_MICRO}"
      ],
      "metadata": {
        "id": "VClr_j6BSlCX"
      },
      "execution_count": null,
      "outputs": []
    }
  ]
}